import numpy as np
from matplotlib import pyplot as plt
from matplotlib import animation
from matplotlib.collections import LineCollection
from matplotlib.colors import ListedColormap, BoundaryNorm
from IPython.display import HTML

# Create a figure and axis
fig, ax = plt.subplots()
ax.set_xlim(0, 5)
ax.set_ylim(-1, 1)

# Create initial data for a straight line
x = np.linspace(0, 5, 500)
y = np.zeros_like(x)
dydx = np.linspace(0, 1, len(x)-1)  # gradient values

points = np.array([x, y]).T.reshape(-1, 1, 2)
segments = np.concatenate([points[:-1], points[1:]], axis=1)

# Create a LineCollection object
norm = plt.Normalize(dydx.min(), dydx.max())
lc = LineCollection(segments, cmap='viridis', norm=norm)
lc.set_array(dydx)
lc.set_linewidth(2)
ax.add_collection(lc)

# Animation function
def animate(i):
    dydx1 = np.roll(dydx, i)  # Shift the gradient values for animation
    lc.set_array(dydx1)
    return lc,

# Create animation
anim = animation.FuncAnimation(fig, animate, frames=200, interval=20)

# Display the animation
HTML(anim.to_jshtml())
