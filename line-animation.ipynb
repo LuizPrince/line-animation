import numpy as np
from matplotlib import pyplot as plt
from matplotlib import animation
from matplotlib.collections import LineCollection
from matplotlib.colors import ListedColormap, BoundaryNorm
from IPython.display import HTML

# Create a figure and axis
fig, ax = plt.subplots()
ax.set_xlim(0, 3 * np.pi)
ax.set_ylim(-1.1, 1.1)

# Create initial data
x = np.linspace(0, 3 * np.pi, 500)
y = np.sin(x)
dydx = np.cos(0.5 * (x[:-1] + x[1:]))  # first derivative
points = np.array([x, y]).T.reshape(-1, 1, 2)
segments = np.concatenate([points[:-1], points[1:]], axis=1)

# Create a LineCollection object
norm = plt.Normalize(dydx.min(), dydx.max())
lc = LineCollection(segments, cmap='viridis', norm=norm)
lc.set_array(dydx)
lc.set_linewidth(2)
ax.add_collection(lc)

# Animation function
def animate(i):
    # y = np.sin(x - 0.1 * i)
    dydx = np.cos(0.5 * (x[:-1] + x[1:]) - 0.1 * i)  # first derivative
    points = np.array([x, y]).T.reshape(-1, 1, 2)
    segments = np.concatenate([points[:-1], points[1:]], axis=1)
    
    lc.set_segments(segments)
    lc.set_array(dydx)
    return lc,

# Create animation
anim = animation.FuncAnimation(fig, animate, frames=200, interval=20)

# Display the animation
HTML(anim.to_jshtml())
